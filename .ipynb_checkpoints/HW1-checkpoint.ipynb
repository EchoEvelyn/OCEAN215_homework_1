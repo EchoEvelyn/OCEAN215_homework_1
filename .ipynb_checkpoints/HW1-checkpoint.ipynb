{
 "cells": [
  {
   "cell_type": "markdown",
   "id": "711fab02-47f9-451f-8c0b-a84e979ceba8",
   "metadata": {
    "tags": []
   },
   "source": [
    "# Homework #1\n",
    "\n",
    "**Due: Friday Oct. 13th @ 11:59 pm**\n",
    "\n",
    "**Objective:** This assignment will give you experience using a Jupyter notebook to write text and code, including variables, mathematical operations, string, and list manipulations."
   ]
  },
  {
   "cell_type": "markdown",
   "id": "ef1637b0-14da-4f24-b040-ca98dec6a062",
   "metadata": {
    "deletable": false,
    "editable": false,
    "tags": []
   },
   "source": [
    "<!-- BEGIN QUESTION -->\n",
    "\n",
    "# Question 1 (20 points)\n",
    "\n",
    "Although the goal of OCEAN 215 is not to teach \"data science\" per se, we hope this course will give you a window into the possibilities offered by data analysis. If you find that you enjoy working with data and writing computer code, you might want to consider a career in academic research or data science. But what is data science, precisely? To better understand this rapidly-growing field, we would like you to read the following article (which should take about 15 minutes), then answer the questions below. There are no wrong answers, but please respond thoughtfully with 2-3 sentences for each. \n",
    "\n",
    "Article: \"What is data science?\" Thinkful. https://www.thinkful.com/blog/what-is-data-science/. Read up until the \"Your Turn\" section.\n",
    "\n",
    "> a) What data do you think you have generated today that might, at some point, be analyzed by a data scientist (5 points)?\n",
    "\n",
    "> b) Can you think of an oceanography data set that could be considered \"big data\"? Why would it be classified as such (5 points)?\n",
    "\n",
    "> c) The article describes how machine learning can be useful for making predictions and identifying relationships in data. Can you think of a research question or task in oceanography or your academic area of interest that might benefit from machine learning? Why might machine learning be particularly useful for that task (10 points)?"
   ]
  },
  {
   "cell_type": "markdown",
   "id": "fcdf43d7",
   "metadata": {
    "tags": []
   },
   "source": [
    "(a): My exercise data can be used for a data scientist to see my exercise pattern. For example, analyze the relationship between my body weight and exercise time, and then use the model to predict the future pattern.\n",
    "\n",
    "(b): Global ocean heat data set can be considered as \"big data\", as \"big data\" is usually large, complex, and constantly changing. The global heat data set keeps updating and may include ocean heat in diffferent time, region, and other complex factors. \n",
    "\n",
    "(c): In terms of the global ocean heat data, we can utilize machine learning techniques to explore the relationship between heat and the greenhouse gases. After finding the underlying pattern, we can use such model to predict the future development of global ocean heat. Machine learning is a process of using machines to better understand a process or system, and recreate, replicate or augment that system. In some cases, machines process data in order to develop some kind of understanding of the underlying system that generated it. In others, machines process data and develop new systems for understanding it. "
   ]
  },
  {
   "cell_type": "markdown",
   "id": "a44a1eea-9f20-4412-9dd4-f8430ab327bc",
   "metadata": {
    "deletable": false,
    "editable": false,
    "tags": []
   },
   "source": [
    "<!-- END QUESTION -->\n",
    "\n",
    "# Question 2 (25 points)\n",
    "\n",
    "The depth of the photic zone (the maximum depth where photosynthesis can occur) in the ocean varies. In clear, pelagic water the photic zone extends to 200 meters depth. In turbid coastal water, the photic zone might only extend to 50 meters depth.\n",
    "\n",
    "Diatoms are a type of phytoplankon (plankton that photosynthesize for energy). They have silica cell walls, and have no appendages for swimming. They must remain near the ocean surface in the photic zone to photosynthesize. To do this, they regulate their bouyancy to sink as slowly as possible. A small diatom might sink 0.9 feet/day, while a large one might sink 13.5 feet/day.\n",
    "\n",
    "Use this information to answer the following questions by writing Python code in the cell below. **Please have your code output (print) each question part and the solution, including the units!**\n",
    "\n",
    "\n",
    "> a) Assign the depth of the pelagic photic zone, coastal photic zone, small diatom sinking rate, and large diatom sinking rates to assigned variable names and print them. (5 points)\n",
    "\n",
    "> b) Convert the sinking rate of each diatom type to meters/day. (5 points)\n",
    "\n",
    "> c) Convert the sinking rate of each diatom type to centimeters/hour. (5 points)\n",
    "\n",
    "> d) Calculate how many days it would take for each diatom type to sink from the sea surface to the bottom of the photic zone in turbid coastal water. (5 points)\n",
    "\n",
    "> e) Calculate how many days it would take for each diatom type to sink from the sea surface to the bottom of the photic zone in clear pelagic water. (5 points)\n"
   ]
  },
  {
   "cell_type": "code",
   "execution_count": null,
   "id": "d3820cf9-9560-409d-ae1c-80896424cf0e",
   "metadata": {
    "deletable": false,
    "editable": false,
    "tags": []
   },
   "outputs": [],
   "source": [
    "##Example code for printing answers\n",
    "\"\"\"\n",
    "answer = 50\n",
    "units = \"hours\"\n",
    "print(\"part f)\",answer,units)\n",
    "\"\"\"\n",
    "# Provide your answers in the cells below:"
   ]
  },
  {
   "cell_type": "markdown",
   "id": "da2dff56-d75e-41d2-934f-7df3db8a966e",
   "metadata": {
    "deletable": false,
    "editable": false,
    "tags": []
   },
   "source": [
    "### part a\n",
    "Assign the depth of the pelagic photic zone, coastal photic zone, small diatom sinking rate, and large diatom sinking rates to assigned variable names and print them. (5 points)"
   ]
  },
  {
   "cell_type": "code",
   "execution_count": 4,
   "id": "0e12e04a-2b1f-49c7-b1d7-f864a81c564c",
   "metadata": {
    "tags": []
   },
   "outputs": [],
   "source": [
    "pelagic = 200 # meters\n",
    "coastal = 50\n",
    "# time = ...\n",
    "# depth = ...\n",
    "# metricdepth = ...\n",
    "sdiatom = 0.9 # feet/day\n",
    "ldiatom = 13.5"
   ]
  },
  {
   "cell_type": "markdown",
   "id": "830a598f-a9d1-4a1b-bf21-794d17c74c4c",
   "metadata": {
    "deletable": false,
    "editable": false
   },
   "source": [
    "### part b\n",
    "Convert the sinking rate of each diatom type to meters/day. (5 points)"
   ]
  },
  {
   "cell_type": "code",
   "execution_count": 23,
   "id": "77798f1c-cc8a-4b56-b19b-cbdcfe576450",
   "metadata": {
    "tags": []
   },
   "outputs": [
    {
     "name": "stdout",
     "output_type": "stream",
     "text": [
      "part b) 0.2743199995830336 meters/day 4.114799993745504 meters/day\n"
     ]
    }
   ],
   "source": [
    "ft_to_m = 3.2808399\n",
    "sdiatom_m = sdiatom / ft_to_m # meters/day\n",
    "ldiatom_m = ldiatom / ft_to_m\n",
    "print(\"part b)\", sdiatom_m, \"meters/day\", ldiatom_m, \"meters/day\")"
   ]
  },
  {
   "cell_type": "markdown",
   "id": "ee8ce2d2-3917-4a6c-acef-50281f0d329f",
   "metadata": {
    "deletable": false,
    "editable": false
   },
   "source": [
    "### part c\n",
    "Convert the sinking rate of each diatom type to centimeters/hour. (5 points)"
   ]
  },
  {
   "cell_type": "code",
   "execution_count": 22,
   "id": "15718c85-63b3-4a79-8b41-9c4428b39842",
   "metadata": {
    "tags": []
   },
   "outputs": [
    {
     "name": "stdout",
     "output_type": "stream",
     "text": [
      "part c) 1.14299999826264 centimeters/hour 17.1449999739396 centimeters/hour\n"
     ]
    }
   ],
   "source": [
    "day_to_hours = 24\n",
    "m_to_cm = 100\n",
    "sdiatom_cm_hr = sdiatom_m * 100 / 24 #centimeters/hour\n",
    "ldiatom_cm_hr =  ldiatom_m * 100 / 24\n",
    "print(\"part c)\", sdiatom_cm_hr, \"centimeters/hour\", ldiatom_cm_hr, \"centimeters/hour\")"
   ]
  },
  {
   "cell_type": "markdown",
   "id": "e90c0341-034f-440d-b581-c201420ebf67",
   "metadata": {
    "deletable": false,
    "editable": false
   },
   "source": [
    "### part d\n",
    "Calculate how many days it would take for each diatom type to sink from the sea surface to the bottom of the photic zone in turbid coastal water. (5 points)"
   ]
  },
  {
   "cell_type": "code",
   "execution_count": 21,
   "id": "b9208ed3-0349-4cb6-a779-d5cf1315a6c1",
   "metadata": {
    "tags": []
   },
   "outputs": [
    {
     "name": "stdout",
     "output_type": "stream",
     "text": [
      "part d) 182.26888333333332 days 12.151258888888888 days\n"
     ]
    }
   ],
   "source": [
    "sdiatomsink = coastal / sdiatom_m\n",
    "ldiatomsink = coastal / ldiatom_m\n",
    "print(\"part d)\", sdiatomsink, \"days\", ldiatomsink, \"days\")"
   ]
  },
  {
   "cell_type": "markdown",
   "id": "2ab80e4f-16de-420b-b5ba-63ffb6c7259c",
   "metadata": {
    "deletable": false,
    "editable": false
   },
   "source": [
    "### part e\n",
    "Calculate how many days it would take for each diatom type to sink from the sea surface to the bottom of the photic zone in clear pelagic water. (5 points)"
   ]
  },
  {
   "cell_type": "code",
   "execution_count": 20,
   "id": "12be6e74-27d9-4ce8-b857-620f99923bf8",
   "metadata": {
    "tags": []
   },
   "outputs": [
    {
     "name": "stdout",
     "output_type": "stream",
     "text": [
      "part e) 729.0755333333333 days 48.60503555555555 days\n"
     ]
    }
   ],
   "source": [
    "sdiatomsink = pelagic / sdiatom_m\n",
    "ldiatomsink = pelagic / ldiatom_m\n",
    "print(\"part e)\", sdiatomsink, \"days\", ldiatomsink, \"days\" )"
   ]
  },
  {
   "cell_type": "markdown",
   "id": "72682492-f00f-4d56-9bf5-94c48b722fe0",
   "metadata": {
    "deletable": false,
    "editable": false
   },
   "source": [
    "# Question 3 (20 points)\n",
    "\n",
    "Ribosomal RNA (rRNA) gene sequencing is often used in phylogenetic research. Each sequence is made up of combinations of 4 different nucleobases, adenine (A), cytosine (C), guanine (G), and uracil (U). Every species of bacteria and archaea has a slightly-unique version of its 16s rRNA gene. This means that 16s rRNA can be targeted to classify what marine bacteria are present in a given parcel of seawater.\n",
    "\n",
    "In the code box below, there are two strings containing different rRNA sequences, which differ from DNA in that they contain uracil (U) nucleobases rather than thymine (T). Answer the following questions using Python. As in Question 2, please have your code output (print) the solutions to each, including any strings you are asked to create or slice.\n",
    "\n",
    "> a) How many nucleobases are in each of the sequences?\n",
    "How many times does guanine (G) occur in each of the sequences? (5 points)\n",
    "\n",
    "> b) Do four uracil (U) nucleobases ever occur side-by-side in either of the sequences? Provide your answers as booleans. (5 points)\n",
    "\n",
    "> c) Change these rRNA sequences to DNA sequences by replacing the uracil (U) bases with thymine (T) bases in both rRNA sequences. (5 points)\n",
    "\n",
    "> d) Slice and print the first 24 nucleobases from the new DNA sequences. How many of each nucleobase (A,C,G,T) are in each of these shorter sequences? (5 points)"
   ]
  },
  {
   "cell_type": "code",
   "execution_count": 27,
   "id": "85ca36d7-4b26-4476-9804-a08cc44af3da",
   "metadata": {
    "deletable": false,
    "editable": false,
    "tags": []
   },
   "outputs": [],
   "source": [
    "# Keep these starting lines of code – DO NOT CHANGE THIS!:\n",
    "\n",
    "RNA1 = 'GGGGGGCAGCAGUGGGGAAUAUUGGGCAAUGGACGAAAGUCUGACCCAGCCAUGCCGCGUGUGUGAAGAAGGCUCUAGGGUUGUAAUGCACUUUAAGUAGGGAGGAAAGGUUGUGUGUUAAUAGCACAUAGCUGUGACGUUACCUACAGAAUAAGCACCGGCUAACUCCGUGCCAGCAGCCGCGGUAAUACGGAGGGUGCAAGCGUUAAUCGGAAUUACUGGGCGUAAAGCGCGCGUAGGCGGUUAUUUAAGCUAGAUGUGAAAGCCCAGGGCUCAACCUUGGAAUUGCAUUUAGAACUGGGUAGCUAGAGUACAAGAGAGGGUGGUGGAAUUUCCAGUGUAGCGGUGAAAUGCGUAGAGAUUGGAAGGAACAUCAGUGGCGAAGGCGGCCACCUGGAUUGAUACUGACGCUGAGGUGCGAAAGCGUGGGGAGCAAACAGGAUUAGAUACCCCAGUAGUCCU'\n",
    "RNA2 = 'GGGGCGCAGCAGUGGGGAAUAUUGCACAAUGGGCGAAAGCCUGAUGCAGCCAUGCCGCGUGUGUGAAGAAGGCCUUCGGGUUGUAAAGCGCUUUCAGUUGUGAGGAAAGGGGUGUAGUUAAUAGCUACAUCCUGUGACGUUAGCAACAGAAGAAGCACCGGCUAACUUCGUGCCAGCAGCCUCGGUAAUACGAGGGGUGCAAGCGUUAAUCGGAAUUACUGGGCGUAAAGCGUUCGUAGGCGGUUUGUUAAGCAAGAUGUGAAAGCCCUGGGCUCAACCUGGGAACUGCAUUUUGAACUGGCAAACUAGAGUACUGUAGAGGGUGGUGGAAUUUCCAGUGUAGCGGUGAAAUGCGUAGAGAUUGGAAGGAACAUCAGUGGCGAAGGCGGCCACCUGGACAGAUACUGACGCUGAGGAACGAAAGCGUGGGGAGCAAACAGGAUUAGAUACCCUAGUAGUCUG'\n",
    "\n",
    "# Provide your answers in cells below:"
   ]
  },
  {
   "cell_type": "markdown",
   "id": "6995c227",
   "metadata": {},
   "source": [
    "_Type your answer here, replacing this text._"
   ]
  },
  {
   "cell_type": "code",
   "execution_count": 29,
   "id": "3be01bf9-4284-4b92-842d-f40c8f3c0b26",
   "metadata": {
    "tags": []
   },
   "outputs": [
    {
     "name": "stdout",
     "output_type": "stream",
     "text": [
      "part a) 462 462 155 154\n"
     ]
    },
    {
     "data": {
      "text/plain": [
       "Ellipsis"
      ]
     },
     "execution_count": 29,
     "metadata": {},
     "output_type": "execute_result"
    }
   ],
   "source": [
    "nucleocount1 = len(RNA1)\n",
    "nucleocount2 = len(RNA2)\n",
    "\n",
    "gcount1 = RNA1.count('G')\n",
    "gcount2 = RNA2.count('G')\n",
    "\n",
    "print(\"part a)\", nucleocount1, nucleocount2, gcount1, gcount2)"
   ]
  },
  {
   "cell_type": "markdown",
   "id": "496b737e-19f4-4389-b63e-086fef92dd55",
   "metadata": {
    "deletable": false,
    "editable": false
   },
   "source": [
    "### part b\n",
    "Do four uracil (U) nucleobases ever occur side-by-side in either of the sequences? Provide your answers as booleans. (5 points)"
   ]
  },
  {
   "cell_type": "code",
   "execution_count": 44,
   "id": "3921f3bc-5872-4415-90e6-698ae9c9b363",
   "metadata": {
    "tags": []
   },
   "outputs": [
    {
     "name": "stdout",
     "output_type": "stream",
     "text": [
      "part b) True True\n"
     ]
    },
    {
     "data": {
      "text/plain": [
       "Ellipsis"
      ]
     },
     "execution_count": 44,
     "metadata": {},
     "output_type": "execute_result"
    }
   ],
   "source": [
    "# report counter1 and counter2 back as booleans\n",
    "if RNA1.find('ACGU'):\n",
    "    counter1 = True\n",
    "if RNA2.find('ACGU'):\n",
    "    counter2 = True\n",
    "\n",
    "print(\"part b)\", counter1, counter2)"
   ]
  },
  {
   "cell_type": "markdown",
   "id": "e44025d9-088f-43c8-89ac-6d2dffbec314",
   "metadata": {
    "deletable": false,
    "editable": false
   },
   "source": [
    "### part c \n",
    "Change these rRNA sequences to DNA sequences by replacing the uracil (U) bases with thymine (T) bases in both rRNA sequences. (5 points)"
   ]
  },
  {
   "cell_type": "code",
   "execution_count": 37,
   "id": "4c411fa1-a5ff-4f9a-b513-241cdc1d17a5",
   "metadata": {
    "tags": []
   },
   "outputs": [
    {
     "name": "stdout",
     "output_type": "stream",
     "text": [
      "partc) DNA1 = GGGGGGCAGCAGTGGGGAATATTGGGCAATGGACGAAAGTCTGACCCAGCCATGCCGCGTGTGTGAAGAAGGCTCTAGGGTTGTAATGCACTTTAAGTAGGGAGGAAAGGTTGTGTGTTAATAGCACATAGCTGTGACGTTACCTACAGAATAAGCACCGGCTAACTCCGTGCCAGCAGCCGCGGTAATACGGAGGGTGCAAGCGTTAATCGGAATTACTGGGCGTAAAGCGCGCGTAGGCGGTTATTTAAGCTAGATGTGAAAGCCCAGGGCTCAACCTTGGAATTGCATTTAGAACTGGGTAGCTAGAGTACAAGAGAGGGTGGTGGAATTTCCAGTGTAGCGGTGAAATGCGTAGAGATTGGAAGGAACATCAGTGGCGAAGGCGGCCACCTGGATTGATACTGACGCTGAGGTGCGAAAGCGTGGGGAGCAAACAGGATTAGATACCCCAGTAGTCCT DNA2 = GGGGCGCAGCAGTGGGGAATATTGCACAATGGGCGAAAGCCTGATGCAGCCATGCCGCGTGTGTGAAGAAGGCCTTCGGGTTGTAAAGCGCTTTCAGTTGTGAGGAAAGGGGTGTAGTTAATAGCTACATCCTGTGACGTTAGCAACAGAAGAAGCACCGGCTAACTTCGTGCCAGCAGCCTCGGTAATACGAGGGGTGCAAGCGTTAATCGGAATTACTGGGCGTAAAGCGTTCGTAGGCGGTTTGTTAAGCAAGATGTGAAAGCCCTGGGCTCAACCTGGGAACTGCATTTTGAACTGGCAAACTAGAGTACTGTAGAGGGTGGTGGAATTTCCAGTGTAGCGGTGAAATGCGTAGAGATTGGAAGGAACATCAGTGGCGAAGGCGGCCACCTGGACAGATACTGACGCTGAGGAACGAAAGCGTGGGGAGCAAACAGGATTAGATACCCTAGTAGTCTG\n"
     ]
    },
    {
     "data": {
      "text/plain": [
       "Ellipsis"
      ]
     },
     "execution_count": 37,
     "metadata": {},
     "output_type": "execute_result"
    }
   ],
   "source": [
    "DNA1 = RNA1.replace(\"U\", \"T\")\n",
    "DNA2 = RNA2.replace(\"U\", \"T\")\n",
    "\n",
    "print(\"partc)\", \"DNA1 = \" + DNA1, \"DNA2 = \" + DNA2)"
   ]
  },
  {
   "cell_type": "markdown",
   "id": "2d53d585-7aff-449b-9ebb-3c6ce25a6cef",
   "metadata": {
    "deletable": false,
    "editable": false
   },
   "source": [
    "### part d\n",
    "Slice and print the first 24 nucleobases from the new DNA sequences. How many of each nucleobase (A,C,G,T) are in each of these shorter sequences? (5 points)"
   ]
  },
  {
   "cell_type": "code",
   "execution_count": 48,
   "id": "d045ddf5-4667-4536-abf0-823ec8abd71a",
   "metadata": {
    "tags": []
   },
   "outputs": [
    {
     "name": "stdout",
     "output_type": "stream",
     "text": [
      "part d) GGGGGGCAGCAGTGGGGAATATTG 5 2 13 4 GGGGCGCAGCAGTGGGGAATATTG 5 3 12 4\n"
     ]
    },
    {
     "data": {
      "text/plain": [
       "Ellipsis"
      ]
     },
     "execution_count": 48,
     "metadata": {},
     "output_type": "execute_result"
    }
   ],
   "source": [
    "DNA1s = DNA1[0:24]\n",
    "DNA1_A = DNA1s.count('A')\n",
    "DNA1_C = DNA1s.count('C')\n",
    "DNA1_G = DNA1s.count('G')\n",
    "DNA1_T = DNA1s.count('T')\n",
    "\n",
    "DNA2s = DNA2[0:24]\n",
    "DNA2_A = DNA2s.count('A')\n",
    "DNA2_C = DNA2s.count('C')\n",
    "DNA2_G = DNA2s.count('G')\n",
    "DNA2_T = DNA2s.count('T')\n",
    "\n",
    "print(\"part d)\", DNA1s, DNA1_A, DNA1_C, DNA1_G, DNA1_T, \n",
    "      DNA2s, DNA2_A, DNA2_C, DNA2_G, DNA2_T)"
   ]
  },
  {
   "cell_type": "markdown",
   "id": "279369b4-0de0-4153-ba2b-3b1b7dded6cb",
   "metadata": {
    "deletable": false,
    "editable": false
   },
   "source": [
    "# Question 4 (25 Points)\n",
    "Tides in the Gulf of Mexico are usually diurnal. This means that there is one high tide and one low tide every ~24 hours. This differs from our local semi-diurnal Seattle tides that have one high and one low every ~12 hours. Tidal amplitudes in the Gulf of Mexico are also very small compared to our local Puget Sound tides.\n",
    "\n",
    "New Orleans, Louisiana is a city located on the Gulf of Mexico where diurnal tides dominate. The lists below contain the dates, high tide times, low tide times, high tide heights (in feet), and low tide heights (in feet) for tidal forcasts for the week of Oct. 1 - Oct 8, 2022. The lists are each the same length, with each index corresponding to a single day.\n",
    "\n",
    "Use these lists and build Python code to answer the following questions. As before, please have your code output (print) the solutions and units for each. Make sure you are using the provided variable names to reference your variables instead of hardcoding your answers!\n",
    "\n",
    "> a) What is the maximum high tide measurement during this week? Find it's index in the list. (5 points)\n",
    "\n",
    "> b) Use list indexing to print the date of the maximum high tide. Calculate the tidal amplitude for that day. *(Hint: Tidal amplitude = maximum measurement - minumum measurement).* (5 points)\n",
    "\n",
    "> c) What is the minimum low tide measurement during this week? Find it's index in the list. *(Hint: There is one day that there is no tidal minimum, represented by None rather than a float. You cannot take the minimum of list with a NoneType object. Develop a creative workaround for this problem, and justify your method in your comments!)* (5 points)\n",
    "\n",
    "> d) Use list indexing to print the date of the minimum low tide. Calculate the tidal amplitude for that day (5 points).\n",
    "\n",
    "> e) Find out which of the two dates have the highest tidal amplitude using a boolean test. Print and label the date, low tide time, high tide time, and tidal amplitude in the same line.(5 points)\n"
   ]
  },
  {
   "cell_type": "code",
   "execution_count": 76,
   "id": "a577dcb9-5ed4-4c9a-8ae6-41c7abe6b4a9",
   "metadata": {
    "deletable": false,
    "editable": false,
    "tags": []
   },
   "outputs": [],
   "source": [
    "# Keep these starting lines of code – these may not be changed:\n",
    "dates = ['October 1','October 2','October 3','October 4','October 5','October 6','October 7','October 8']\n",
    "high_times = ['6:05AM','6:53AM','7:42AM','8:32AM','9:21AM','10:10AM','11:02AM','6:07PM']\n",
    "low_times = ['4:37PM','6:36PM','9:45PM','11:05PM', None,'00:07AM','1:02AM','1:55AM']\n",
    "high_measurement_feet = [1.57, 1.65, 1.67, 1.61, 1.44, 1.25, 1.02, 0.85]\n",
    "low_measurement_feet =  [-0.02, -0.07, -0.03, -0.02, None, 0.03, 0.16, 0.36]\n",
    "\n",
    "# Provide your answers below:"
   ]
  },
  {
   "cell_type": "markdown",
   "id": "1da1d943",
   "metadata": {},
   "source": [
    "_Type your answer here, replacing this text._"
   ]
  },
  {
   "cell_type": "code",
   "execution_count": 78,
   "id": "38794b12-ada2-4545-bca9-d113a677e39b",
   "metadata": {
    "tags": []
   },
   "outputs": [
    {
     "name": "stdout",
     "output_type": "stream",
     "text": [
      "part a) 1.67 2\n"
     ]
    }
   ],
   "source": [
    "baseline = max(high_measurement_feet)\n",
    "baseindex = high_measurement_feet.index(baseline)\n",
    "\n",
    "print(\"part a)\", baseline, baseindex)"
   ]
  },
  {
   "cell_type": "markdown",
   "id": "ec123fb7-63dd-4d35-a272-11ea199e5604",
   "metadata": {
    "deletable": false,
    "editable": false
   },
   "source": [
    "### part b\n",
    "Use your variable \"baseindex\" from part a) with list indexing to print the date of the maximum high tide. Calculate the tidal amplitude for that day. (Hint: Tidal amplitude = maximum measurement - minumum measurement). (5 points)"
   ]
  },
  {
   "cell_type": "code",
   "execution_count": 79,
   "id": "77ece61c-82d2-42fd-b6fa-990d6f3a41c8",
   "metadata": {
    "tags": []
   },
   "outputs": [
    {
     "name": "stdout",
     "output_type": "stream",
     "text": [
      "part b) October 3 1.7\n"
     ]
    }
   ],
   "source": [
    "max_amp_date = dates[baseindex]\n",
    "max_amp = high_measurement_feet[baseindex] - low_measurement_feet[baseindex]\n",
    "\n",
    "print(\"part b)\", max_amp_date, max_amp)"
   ]
  },
  {
   "cell_type": "markdown",
   "id": "0ef65812-bbd3-453b-ab70-382c40104538",
   "metadata": {
    "deletable": false,
    "editable": false
   },
   "source": [
    "### part c\n",
    "What is the minimum low tide measurement during this week? Find it's index in the list. (Hint: There is one day that there is no tidal minimum, represented by None rather than a float. You cannot take the minimum of list with a NoneType object. Develop a creative workaround for this problem, and justify your method in your comments!) (5 points)"
   ]
  },
  {
   "cell_type": "code",
   "execution_count": 80,
   "id": "5c217577-b405-4897-9957-83254bd07a8c",
   "metadata": {
    "tags": []
   },
   "outputs": [
    {
     "name": "stdout",
     "output_type": "stream",
     "text": [
      "part c) -0.07 1\n"
     ]
    }
   ],
   "source": [
    "# Contents in the brackets: This part of the expression \n",
    "# iterates over the low_measurement_feet list, \n",
    "# considering only those elements (x) that are not None.\n",
    "# The min() function then can be given to the whole brackets\n",
    "# to find the minimum values.\n",
    "minbase = min(x for x in low_measurement_feet if x is not None)\n",
    "minbaseindex = low_measurement_feet.index(minbase)\n",
    "\n",
    "print(\"part c)\", minbase, minbaseindex)"
   ]
  },
  {
   "cell_type": "markdown",
   "id": "0958297b-0f0f-487b-922e-908f4e9baeb6",
   "metadata": {
    "deletable": false,
    "editable": false
   },
   "source": [
    "### part d\n",
    "Use list indexing to print the date of the minimum low tide. Calculate the tidal amplitude for that day (5 points)."
   ]
  },
  {
   "cell_type": "code",
   "execution_count": 82,
   "id": "a2745964-de64-4926-9ed3-4ec87b3b20da",
   "metadata": {
    "tags": []
   },
   "outputs": [
    {
     "name": "stdout",
     "output_type": "stream",
     "text": [
      "part d) October 2 1.72\n"
     ]
    }
   ],
   "source": [
    "min_amp_date = dates[minbaseindex]\n",
    "min_amp = high_measurement_feet[minbaseindex] - low_measurement_feet[minbaseindex]\n",
    "\n",
    "print(\"part d)\", min_amp_date, min_amp)"
   ]
  },
  {
   "cell_type": "markdown",
   "id": "22592764-3340-4db7-adbf-f224b40a6599",
   "metadata": {
    "deletable": false,
    "editable": false
   },
   "source": [
    "### part e\n",
    "Find out which of the two dates from part b) and part d) have the higher tidal amplitude using a boolean test. Print and label the date, low tide time, high tide time, and tidal amplitude in the same line.(5 points)"
   ]
  },
  {
   "cell_type": "code",
   "execution_count": 87,
   "id": "e760366c-f78b-4cd0-8001-7586d8c1d043",
   "metadata": {
    "tags": []
   },
   "outputs": [
    {
     "name": "stdout",
     "output_type": "stream",
     "text": [
      "part e) October 2 6:36PM 6:53AM 1.72\n"
     ]
    }
   ],
   "source": [
    "if min_amp > max_amp:\n",
    "    high_amp_date = min_amp_date\n",
    "else:\n",
    "    high_amp_date = max_amp_date\n",
    "\n",
    "index = dates.index(high_amp_date)\n",
    "low_tide_time = low_times[index]\n",
    "high_tide_time = high_times[index]\n",
    "amp = high_measurement_feet[index] - low_measurement_feet[index]\n",
    "    \n",
    "print (\"part e)\", high_amp_date, low_tide_time, high_tide_time, amp)"
   ]
  }
 ],
 "metadata": {
  "kernelspec": {
   "display_name": "Python 3 (ipykernel)",
   "language": "python",
   "name": "python3"
  },
  "language_info": {
   "codemirror_mode": {
    "name": "ipython",
    "version": 3
   },
   "file_extension": ".py",
   "mimetype": "text/x-python",
   "name": "python",
   "nbconvert_exporter": "python",
   "pygments_lexer": "ipython3",
   "version": "3.10.10"
  },
  "otter": {
   "OK_FORMAT": true,
   "tests": {
    "Question 2a": {
     "name": "Question 2a",
     "points": 4,
     "suites": [
      {
       "cases": [
        {
         "code": ">>> # PART A, let them be +/- by 5\n>>> assert 205 >= pelagic >= 195\n",
         "hidden": false,
         "locked": false,
         "points": 1
        },
        {
         "code": ">>> # PART A, let them be +/- by 5\n>>> assert 55 >= coastal >= 45\n",
         "hidden": false,
         "locked": false,
         "points": 1
        },
        {
         "code": ">>> # PART A, let them be +/- by 0.2 (need to backcalculate operations)\n>>> assert 1.1 >= (sdiatom*ft_to_m)/(m_to_cm/day_to_hours )/(day_to_hours/m_to_cm) >= 0.7\n",
         "hidden": false,
         "locked": false,
         "points": 1
        },
        {
         "code": ">>> # PART A, let them be +/- by 0.2\n>>> assert 13.7 >= (ldiatom*ft_to_m)/(m_to_cm/day_to_hours )/(day_to_hours/m_to_cm) >= 13.3\n",
         "hidden": false,
         "locked": false,
         "points": 1
        }
       ],
       "scored": true,
       "setup": "",
       "teardown": "",
       "type": "doctest"
      }
     ]
    }
   }
  }
 },
 "nbformat": 4,
 "nbformat_minor": 5
}
